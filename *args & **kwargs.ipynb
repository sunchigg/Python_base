{
 "cells": [
  {
   "cell_type": "markdown",
   "metadata": {},
   "source": [
    "### 1. 基本概念"
   ]
  },
  {
   "cell_type": "code",
   "execution_count": 1,
   "metadata": {},
   "outputs": [
    {
     "name": "stdout",
     "output_type": "stream",
     "text": [
      "demo1: \n",
      "Required argument:  1\n",
      "Optional argument:  2\n",
      "demo2: \n",
      "Required argument:  1\n",
      "Optional argument:  3\n"
     ]
    }
   ],
   "source": [
    "def test_defargs(one, two = 2):\n",
    "   print ('Required argument: ', one)\n",
    "   print ('Optional argument: ', two)\n",
    "print('demo1: ')\n",
    "test_defargs(1)\n",
    "# result:\n",
    "# Required argument: 1\n",
    "# Optional argument: 2\n",
    "print('demo2: ')\n",
    "test_defargs(1, 3)\n",
    "# result:\n",
    "# Required argument: 1\n",
    "# Optional argument: 3"
   ]
  },
  {
   "cell_type": "code",
   "execution_count": 2,
   "metadata": {},
   "outputs": [
    {
     "name": "stdout",
     "output_type": "stream",
     "text": [
      "Required argument:  1\n",
      "Optional argument:  2\n",
      "Optional argument:  3\n",
      "Optional argument:  4\n",
      "如果連第一個arg都不放，會出現：TypeError: test_args() missing 1 required positional argument: 'first'\n"
     ]
    }
   ],
   "source": [
    "def test_args(first, *args):\n",
    "   print ('Required argument: ', first)\n",
    "   for v in args:\n",
    "      print ('Optional argument: ', v)\n",
    "\n",
    "test_args(1,2,3,4)\n",
    "print('如果連第一個arg都不放，會出現：TypeError: test_args() missing 1 required positional argument: \\'first\\'')"
   ]
  },
  {
   "cell_type": "code",
   "execution_count": 3,
   "metadata": {},
   "outputs": [
    {
     "name": "stdout",
     "output_type": "stream",
     "text": [
      "Required argument:  1\n",
      "Optional argument (*args):  2\n",
      "Optional argument (*args):  3\n",
      "Optional argument (*args):  4\n",
      "Optional argument k1 (*kwargs): 5\n",
      "Optional argument k2 (*kwargs): 任意\n"
     ]
    }
   ],
   "source": [
    "def test_kwargs(first, *args, **kwargs):\n",
    "   print ('Required argument: ', first)\n",
    "   for v in args:\n",
    "      print ('Optional argument (*args): ', v)\n",
    "   for k, v in kwargs.items():\n",
    "      print ('Optional argument %s (*kwargs): %s' % (k, v))\n",
    "\n",
    "test_kwargs(1, 2, 3, 4, k1=5, k2='任意')"
   ]
  },
  {
   "cell_type": "markdown",
   "metadata": {},
   "source": [
    "### 2. 用來做參數unpack"
   ]
  },
  {
   "cell_type": "code",
   "execution_count": 4,
   "metadata": {},
   "outputs": [
    {
     "name": "stdout",
     "output_type": "stream",
     "text": [
      "1. Use *args 代表list\n",
      "First argument:  1\n",
      "Second argument:  2\n",
      "Third argument:  3\n",
      "Fourth argument:  4\n",
      "Fifth argument:  5\n",
      "2. Use **kwargs 代表dictionary\n",
      "First argument:  1\n",
      "Second argument:  2\n",
      "Third argument:  3\n",
      "Fourth argument:  4\n",
      "Fifth argument:  haha u cant replace 'fifth'with OTHER_ARG_NAME\n"
     ]
    }
   ],
   "source": [
    "def test_args(first, second, third, fourth, fifth):\n",
    "    print ('First argument: ', first)\n",
    "    print ('Second argument: ', second)\n",
    "    print ('Third argument: ', third)\n",
    "    print ('Fourth argument: ', fourth)\n",
    "    print ('Fifth argument: ', fifth)\n",
    "#設定test_args的function要5個required arguments\n",
    "    \n",
    "# Use *args 代表list\n",
    "print('1. Use *args 代表list')\n",
    "args = [1, 2, 3, 4, 5]\n",
    "test_args(*args)\n",
    "# results:\n",
    "# First argument:  1\n",
    "# Second argument:  2\n",
    "# Third argument:  3\n",
    "# Fourth argument:  4\n",
    "# Fifth argument:  5\n",
    "\n",
    "# Use **kwargs 代表dictionary\n",
    "print('2. Use **kwargs 代表dictionary')\n",
    "kwargs = {\n",
    "    'first': 1,\n",
    "    'second': 2,\n",
    "    'third': 3,\n",
    "    'fourth': 4,\n",
    "    'fifth': 'haha u cant replace \\'fifth\\'with OTHER_ARG_NAME'\n",
    "}\n",
    "\n",
    "test_args(**kwargs)\n",
    "# results:\n",
    "# First argument:  1\n",
    "# Second argument:  2\n",
    "# Third argument:  3\n",
    "# Fourth argument:  4\n",
    "# Fifth argument:  5"
   ]
  },
  {
   "cell_type": "markdown",
   "metadata": {},
   "source": [
    "###### 參考資料： http://kodango.com/variable-arguments-in-python"
   ]
  }
 ],
 "metadata": {
  "kernelspec": {
   "display_name": "Python 3",
   "language": "python",
   "name": "python3"
  },
  "language_info": {
   "codemirror_mode": {
    "name": "ipython",
    "version": 3
   },
   "file_extension": ".py",
   "mimetype": "text/x-python",
   "name": "python",
   "nbconvert_exporter": "python",
   "pygments_lexer": "ipython3",
   "version": "3.6.5"
  }
 },
 "nbformat": 4,
 "nbformat_minor": 2
}

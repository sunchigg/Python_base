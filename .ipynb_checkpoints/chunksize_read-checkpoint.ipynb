{
 "cells": [
  {
   "cell_type": "code",
   "execution_count": 1,
   "metadata": {},
   "outputs": [],
   "source": [
    "import pandas as pd\n",
    "import _pickle as pickle"
   ]
  },
  {
   "cell_type": "code",
   "execution_count": 2,
   "metadata": {},
   "outputs": [],
   "source": [
    "usecol = ['TXKEY','N']"
   ]
  },
  {
   "cell_type": "code",
   "execution_count": 3,
   "metadata": {},
   "outputs": [],
   "source": [
    "reader= pd.read_csv('for_chunk.csv',\n",
    "                    encoding='big5',\n",
    "                    usecols= usecol,#不指定欄位也是可以的～\n",
    "                    dtype = {\n",
    "                        'TXKEY':'category',\n",
    "                        'N':'int8'\n",
    "                    },\n",
    "                    chunksize = 20\n",
    "                    #,skiprows=list(range(1,32000000000)),header=0\n",
    "                    #中間斷掉才要用skiprows\n",
    "                   )"
   ]
  },
  {
   "cell_type": "code",
   "execution_count": 4,
   "metadata": {},
   "outputs": [
    {
     "name": "stdout",
     "output_type": "stream",
     "text": [
      "1\n",
      "2\n",
      "3\n",
      "4\n",
      "5\n",
      "Iteration is stopped\n"
     ]
    }
   ],
   "source": [
    "loop = True\n",
    "i=0\n",
    "while loop:\n",
    "    try:\n",
    "        i=i+1\n",
    "        chunk = reader.get_chunk()\n",
    "        chunk.to_pickle('./test/'+'read'+'part_'+str(i))\n",
    "        print(i)\n",
    "    except StopIteration:\n",
    "        print (\"Iteration is stopped\")\n",
    "        break"
   ]
  },
  {
   "cell_type": "code",
   "execution_count": 5,
   "metadata": {},
   "outputs": [
    {
     "name": "stdout",
     "output_type": "stream",
     "text": [
      "(20, 2)\n",
      "(40, 2)\n",
      "(60, 2)\n",
      "(80, 2)\n",
      "(100, 2)\n"
     ]
    }
   ],
   "source": [
    "n=5 #分幾份\n",
    "data_all = pd.DataFrame()\n",
    "\n",
    "for i in range(1,n+1):\n",
    "    chunk=pd.read_pickle('./test/'+'readpart_'+str(i))\n",
    "    #這邊開始針對要的欄位做篩選(如果要的話)\n",
    "    \n",
    "    data_all = data_all.append(chunk)\n",
    "    print(data_all.shape)"
   ]
  },
  {
   "cell_type": "code",
   "execution_count": 6,
   "metadata": {},
   "outputs": [
    {
     "name": "stdout",
     "output_type": "stream",
     "text": [
      "<class 'pandas.core.frame.DataFrame'>\n",
      "RangeIndex: 100 entries, 0 to 99\n",
      "Data columns (total 2 columns):\n",
      "TXKEY    100 non-null object\n",
      "N        100 non-null int8\n",
      "dtypes: int8(1), object(1)\n",
      "memory usage: 980.0+ bytes\n"
     ]
    }
   ],
   "source": [
    "data_all.info()"
   ]
  },
  {
   "cell_type": "code",
   "execution_count": null,
   "metadata": {},
   "outputs": [],
   "source": []
  }
 ],
 "metadata": {
  "kernelspec": {
   "display_name": "Python 3",
   "language": "python",
   "name": "python3"
  },
  "language_info": {
   "codemirror_mode": {
    "name": "ipython",
    "version": 3
   },
   "file_extension": ".py",
   "mimetype": "text/x-python",
   "name": "python",
   "nbconvert_exporter": "python",
   "pygments_lexer": "ipython3",
   "version": "3.6.5"
  }
 },
 "nbformat": 4,
 "nbformat_minor": 2
}
